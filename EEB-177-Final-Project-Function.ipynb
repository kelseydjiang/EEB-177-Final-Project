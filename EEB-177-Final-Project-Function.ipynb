{
 "cells": [
  {
   "cell_type": "code",
   "execution_count": 51,
   "metadata": {
    "collapsed": false
   },
   "outputs": [],
   "source": [
    "Elasmobranchii_data = {}\n",
    "ff = open((\"formatted_pbdb_data_Elasmobranchii.csv\"), \"r\", encoding = \"ISO-8859-15\")\n",
    "ss = ff.readlines()\n",
    "for line in ss:\n",
    "    name = line.split(\",\")[0]\n",
    "    #rank = line.split(\",\")[2]\n",
    "    #Elasmobranchii_data[name] = rank\n",
    "ff.close()"
   ]
  },
  {
   "cell_type": "code",
   "execution_count": 41,
   "metadata": {
    "collapsed": false
   },
   "outputs": [],
   "source": [
    "def makeElasmobranchiiDict(filename):\n",
    "    # this function opens the data file from Elasmobranchii and extracts the name and rank as a dictionary.\n",
    "    ElasmobranchiiDict = {}\n",
    "    fobj = open(filename,\"r\", encoding = \"ISO-8859-15\") # open the file \n",
    "    all_records = fobj.readlines() [1:] # read the file, all_records is a list\n",
    "    for line in all_records:\n",
    "        record_elements = line.split(\",\")\n",
    "        name = record_elements[0]\n",
    "        #rank = record_elements[0]\n",
    "        #ElasmobranchiiDict[name] = rank\n",
    "    # name = line.split(\",\") splits it into a new list that is ordered correctly  \n",
    "    # split lines on comma\n",
    "    # stick species and family into ElasmobranchiiDict\n",
    "    \n",
    "    return ElasmobranchiiDict"
   ]
  },
  {
   "cell_type": "code",
   "execution_count": 42,
   "metadata": {
    "collapsed": false
   },
   "outputs": [
    {
     "data": {
      "text/plain": [
       "{}"
      ]
     },
     "execution_count": 42,
     "metadata": {},
     "output_type": "execute_result"
    }
   ],
   "source": [
    "makeElasmobranchiiDict(\"formatted_pbdb_data_Elasmobranchii.csv\")"
   ]
  },
  {
   "cell_type": "code",
   "execution_count": 46,
   "metadata": {
    "collapsed": false
   },
   "outputs": [],
   "source": [
    "def Elasmobranchii_data(filename):\n",
    "    data_input = open(\"pbdb_data(Elasmobranchii).csv\")\n",
    "    data_list = data_input.readlines()\n",
    "    for name in data_input:\n",
    "        name = line.split(\",\")[19]\n",
    "    return Elasmobranchii_data"
   ]
  },
  {
   "cell_type": "code",
   "execution_count": 47,
   "metadata": {
    "collapsed": true
   },
   "outputs": [],
   "source": [
    "def makeElasmobranchiiDict(filename):\n",
    "    data_input = open(\"pbdb_data(Elasmobranchii).csv\")\n",
    "    data_list = data_input.readlines()\n",
    "    ElasmobranchiiDict = {}\n",
    "    for line in data_input:\n",
    "        name = line.split(\",\")[19]\n",
    "        rank = line.split(\",\")[19]\n",
    "        Elasmobranchii[name] = rank\n",
    "    return ElasmobranchiiDict"
   ]
  },
  {
   "cell_type": "code",
   "execution_count": 49,
   "metadata": {
    "collapsed": false
   },
   "outputs": [
    {
     "data": {
      "text/plain": [
       "{}"
      ]
     },
     "execution_count": 49,
     "metadata": {},
     "output_type": "execute_result"
    }
   ],
   "source": [
    "makeElasmobranchiiDict(\"pbdb_data(Elasmobranchii).csv\")"
   ]
  },
  {
   "cell_type": "code",
   "execution_count": null,
   "metadata": {
    "collapsed": true
   },
   "outputs": [],
   "source": []
  }
 ],
 "metadata": {
  "anaconda-cloud": {},
  "kernelspec": {
   "display_name": "Python [conda root]",
   "language": "python",
   "name": "conda-root-py"
  },
  "language_info": {
   "codemirror_mode": {
    "name": "ipython",
    "version": 3
   },
   "file_extension": ".py",
   "mimetype": "text/x-python",
   "name": "python",
   "nbconvert_exporter": "python",
   "pygments_lexer": "ipython3",
   "version": "3.5.2"
  }
 },
 "nbformat": 4,
 "nbformat_minor": 2
}
